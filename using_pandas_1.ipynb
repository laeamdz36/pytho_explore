{
 "cells": [
  {
   "cell_type": "code",
   "execution_count": 2,
   "metadata": {},
   "outputs": [],
   "source": [
    "import pandas as pd\n",
    "import numpy as np\n",
    "import matplotlib.pyplot as plt"
   ]
  },
  {
   "cell_type": "code",
   "execution_count": 3,
   "metadata": {},
   "outputs": [
    {
     "name": "stdout",
     "output_type": "stream",
     "text": [
      "---------------------------------------------Resultado----------------------------------------------\n",
      "Index(['Monterrey', 'Chihuahua', 'Queretaro', 'Pachuca'], dtype='object')\n",
      "---------------------------------------------------\n",
      "      1990 |       10.0 |       12.0 |       13.0 |\n",
      "---------------------------------------------------\n",
      "      2000 |       11.0 |       14.0 |       12.0 |\n",
      "---------------------------------------------------\n",
      "      2010 |       12.0 |       15.0 |       18.0 |\n",
      "---------------------------------------------------\n",
      "      2020 |       13.0 |       15.0 |       12.0 |\n",
      "---------------------------------------------------\n",
      "      1991 |        nan |        nan |        nan |\n",
      "---------------------------------------------------\n",
      "      2001 |        nan |        nan |        nan |\n",
      "---------------------------------------------------\n",
      "      2011 |        nan |        nan |        nan |\n",
      "---------------------------------------------------\n",
      "      2021 |        nan |        nan |        nan |\n"
     ]
    }
   ],
   "source": [
    "# crear dataframe de diccionario anidado de diccionarios\n",
    "\n",
    "data_1 = {\"Monterrey\":{\"1990\":10.0,\"2000\":11.0,\"2010\":12.0,\"2020\":13.0}}\n",
    "data_2 = {\"Chihuahua\":{\"1990\":12.0,\"2000\":14.0,\"2010\":15.0,\"2020\":15.0}}\n",
    "data_3 = {\"Queretaro\":{\"1990\":13.0,\"2000\":12.0,\"2010\":18.0,\"2020\":12.0}}\n",
    "data_4 = {\"Pachuca\":{\"1990\":15.0,\"2000\":17.0,\"2010\":17.0,\"2020\":19.0}}\n",
    "data_5 = {\"Pachuca\":{\"1991\":15.0,\"2001\":17.0,\"2011\":17.0,\"2021\":19.0}}\n",
    "\n",
    "# unir varios diccionarios en uno solo\n",
    "all_data = data_1 | data_2 | data_3 | data_4 | data_5\n",
    "# crear el dataframe\n",
    "df = pd.DataFrame(all_data)\n",
    "header = \"Resultado\".center(100,\"-\")\n",
    "print(header)\n",
    "columns = df.columns\n",
    "print(columns)\n",
    "for row in df.itertuples():\n",
    "    # how to format the row text\n",
    "    # maybe iterate over the ites of the row and concatenate\n",
    "    out = \"%10s | %010s | %010s | %010s |\"% (row[0],row[1],row[2],row[3])\n",
    "    length = len(out)\n",
    "    spacer = \"\".center(length,\"-\")\n",
    "    print(spacer)\n",
    "    print(out)\n",
    "    \n",
    "\n"
   ]
  },
  {
   "cell_type": "code",
   "execution_count": 44,
   "metadata": {},
   "outputs": [
    {
     "name": "stdout",
     "output_type": "stream",
     "text": [
      "---------------------------------------------Resultado----------------------------------------------\n",
      "9\n",
      "Maximo de caractares de nombres de columnas 9\n",
      "Index(['Monterrey', 'Chihuahua', 'Queretaro', 'Pachuca'], dtype='object')\n",
      "---------------------------------------------------\n",
      "      1990 |       10.0 |       12.0 |       13.0 |\n",
      "---------------------------------------------------\n",
      "      2000 |       11.0 |       14.0 |       12.0 |\n",
      "---------------------------------------------------\n",
      "      2010 |       12.0 |       15.0 |       18.0 |\n",
      "---------------------------------------------------\n",
      "      2020 |       13.0 |       15.0 |       12.0 |\n",
      "---------------------------------------------------\n",
      "      1991 |        nan |        nan |        nan |\n",
      "---------------------------------------------------\n",
      "      2001 |        nan |        nan |        nan |\n",
      "---------------------------------------------------\n",
      "      2011 |        nan |        nan |        nan |\n",
      "---------------------------------------------------\n",
      "      2021 |        nan |        nan |        nan |\n"
     ]
    }
   ],
   "source": [
    "# Print a header to inform the title of the table\n",
    "# --> Extract the total wide of the table to assign the wide of thr title\n",
    "print(\"Resultado\".center(100,\"-\"))\n",
    "# extract all columns anmes\n",
    "columns = df.columns\n",
    "# get the column name max length text size\n",
    "col_lens = [] # declare a list to storage column name len\n",
    "# to obtain the maximum\n",
    "print(len(df.columns.max()))\n",
    "for col in df.columns:\n",
    "    col_lens.append(len(col))\n",
    "max_col = max(col_lens)\n",
    "print(f\"Maximo de caractares de nombres de columnas {max_col}\")\n",
    "print(columns)\n",
    "for row in df.itertuples():\n",
    "    # how to format the row text\n",
    "    # maybe iterate over the ites of the row and concatenate\n",
    "    out = \"%10s | %10s | %10s | %10s |\"% (row[0],row[1],row[2],row[3])\n",
    "    length = len(out)\n",
    "    spacer = \"\".center(length,\"-\")\n",
    "    print(spacer)\n",
    "    print(out)"
   ]
  },
  {
   "cell_type": "code",
   "execution_count": 61,
   "metadata": {},
   "outputs": [
    {
     "name": "stdout",
     "output_type": "stream",
     "text": [
      "Palabra maxima -> Parangaricutirimicuaro repetidas -> 3 maximos chars -> 22\n"
     ]
    }
   ],
   "source": [
    "# explore the functionality of max apply to a string list\n",
    "# WIth a list of string\n",
    "# get the \n",
    "str_list = [\"Luis\",\"Abigail\",\"pepe\",\"Luisito\",\"Parangaricutirimicuaro\",\"Parangaricutirimicuaro\",\"Parangaricutirimicuaro\"]\n",
    "max_len = []\n",
    "word_aux = 0\n",
    "word_catched = \"\"\n",
    "repeated_words = 0\n",
    "for word in str_list:\n",
    "    len_word = len(word)\n",
    "    if len_word > word_aux:\n",
    "        word_catched = word\n",
    "        word_aux = len_word\n",
    "    elif len_word == word_aux:\n",
    "        repeated_words += 1\n",
    "    max_len.append(len(word))\n",
    "max_text = max(max_len)\n",
    "final_result = f\"Palabra maxima -> {word_catched} repetidas -> {repeated_words} maximos chars -> {max_text}\"\n",
    "print(final_result)\n"
   ]
  },
  {
   "cell_type": "code",
   "execution_count": 6,
   "metadata": {},
   "outputs": [
    {
     "name": "stdout",
     "output_type": "stream",
     "text": [
      "8\n"
     ]
    }
   ],
   "source": [
    "# get the total size of the dataframe\n",
    "# Use the index property to get the total registers, and as result the size in axis 0\n",
    "print(df.index.size)"
   ]
  },
  {
   "cell_type": "code",
   "execution_count": 17,
   "metadata": {},
   "outputs": [
    {
     "data": {
      "image/png": "[encoded data removed]",
      "text/plain": [
       "<Figure size 640x480 with 1 Axes>"
      ]
     },
     "metadata": {},
     "output_type": "display_data"
    }
   ],
   "source": [
    "# replace Nan values for 0.0\n",
    "fig, ax = plt.subplots()\n",
    "# hide axes\n",
    "fig.patch.set_visible(False)\n",
    "ax.axis('off')\n",
    "ax.axis('tight')\n",
    "ax = plt.table(cellText=df.values,colLabels=df.columns,loc=\"top\")\n",
    "fig.tight_layout()\n",
    "plt.show()"
   ]
  },
  {
   "cell_type": "code",
   "execution_count": 14,
   "metadata": {},
   "outputs": [],
   "source": [
    "# transponer filas y columnas\n",
    "df_t = df.T"
   ]
  },
  {
   "cell_type": "code",
   "execution_count": 15,
   "metadata": {},
   "outputs": [
    {
     "name": "stdout",
     "output_type": "stream",
     "text": [
      "<class 'pandas.core.frame.DataFrame'>\n",
      "Index: 4 entries, Monterrey to Pachuca\n",
      "Data columns (total 8 columns):\n",
      " #   Column  Non-Null Count  Dtype  \n",
      "---  ------  --------------  -----  \n",
      " 0   1990    4 non-null      float64\n",
      " 1   2000    4 non-null      float64\n",
      " 2   2010    4 non-null      float64\n",
      " 3   2020    4 non-null      float64\n",
      " 4   1991    4 non-null      float64\n",
      " 5   2001    4 non-null      float64\n",
      " 6   2011    4 non-null      float64\n",
      " 7   2021    4 non-null      float64\n",
      "dtypes: float64(8)\n",
      "memory usage: 460.0+ bytes\n"
     ]
    }
   ],
   "source": [
    "df_t.info()"
   ]
  },
  {
   "cell_type": "code",
   "execution_count": 19,
   "metadata": {},
   "outputs": [
    {
     "name": "stdout",
     "output_type": "stream",
     "text": [
      "Estados\n"
     ]
    }
   ],
   "source": [
    "# Establecer el atributo name a el index y a las columnas\n",
    "df.index.name = \"Estados\"\n",
    "df.columns.name = \"Years\"\n",
    "print(df.index.name)"
   ]
  },
  {
   "cell_type": "code",
   "execution_count": 20,
   "metadata": {},
   "outputs": [
    {
     "data": {
      "text/html": [
       "<div>\n",
       "<style scoped>\n",
       "    .dataframe tbody tr th:only-of-type {\n",
       "        vertical-align: middle;\n",
       "    }\n",
       "\n",
       "    .dataframe tbody tr th {\n",
       "        vertical-align: top;\n",
       "    }\n",
       "\n",
       "    .dataframe thead th {\n",
       "        text-align: right;\n",
       "    }\n",
       "</style>\n",
       "<table border=\"1\" class=\"dataframe\">\n",
       "  <thead>\n",
       "    <tr style=\"text-align: right;\">\n",
       "      <th>Years</th>\n",
       "      <th>Monterrey</th>\n",
       "      <th>Chihuahua</th>\n",
       "      <th>Queretaro</th>\n",
       "      <th>Pachuca</th>\n",
       "    </tr>\n",
       "    <tr>\n",
       "      <th>Estados</th>\n",
       "      <th></th>\n",
       "      <th></th>\n",
       "      <th></th>\n",
       "      <th></th>\n",
       "    </tr>\n",
       "  </thead>\n",
       "  <tbody>\n",
       "    <tr>\n",
       "      <th>1990</th>\n",
       "      <td>10.0</td>\n",
       "      <td>12.0</td>\n",
       "      <td>13.0</td>\n",
       "      <td>0.0</td>\n",
       "    </tr>\n",
       "    <tr>\n",
       "      <th>2000</th>\n",
       "      <td>11.0</td>\n",
       "      <td>14.0</td>\n",
       "      <td>12.0</td>\n",
       "      <td>0.0</td>\n",
       "    </tr>\n",
       "    <tr>\n",
       "      <th>2010</th>\n",
       "      <td>12.0</td>\n",
       "      <td>15.0</td>\n",
       "      <td>18.0</td>\n",
       "      <td>0.0</td>\n",
       "    </tr>\n",
       "    <tr>\n",
       "      <th>2020</th>\n",
       "      <td>13.0</td>\n",
       "      <td>15.0</td>\n",
       "      <td>12.0</td>\n",
       "      <td>0.0</td>\n",
       "    </tr>\n",
       "    <tr>\n",
       "      <th>1991</th>\n",
       "      <td>0.0</td>\n",
       "      <td>0.0</td>\n",
       "      <td>0.0</td>\n",
       "      <td>15.0</td>\n",
       "    </tr>\n",
       "    <tr>\n",
       "      <th>2001</th>\n",
       "      <td>0.0</td>\n",
       "      <td>0.0</td>\n",
       "      <td>0.0</td>\n",
       "      <td>17.0</td>\n",
       "    </tr>\n",
       "    <tr>\n",
       "      <th>2011</th>\n",
       "      <td>0.0</td>\n",
       "      <td>0.0</td>\n",
       "      <td>0.0</td>\n",
       "      <td>17.0</td>\n",
       "    </tr>\n",
       "    <tr>\n",
       "      <th>2021</th>\n",
       "      <td>0.0</td>\n",
       "      <td>0.0</td>\n",
       "      <td>0.0</td>\n",
       "      <td>19.0</td>\n",
       "    </tr>\n",
       "  </tbody>\n",
       "</table>\n",
       "</div>"
      ],
      "text/plain": [
       "Years    Monterrey  Chihuahua  Queretaro  Pachuca\n",
       "Estados                                          \n",
       "1990          10.0       12.0       13.0      0.0\n",
       "2000          11.0       14.0       12.0      0.0\n",
       "2010          12.0       15.0       18.0      0.0\n",
       "2020          13.0       15.0       12.0      0.0\n",
       "1991           0.0        0.0        0.0     15.0\n",
       "2001           0.0        0.0        0.0     17.0\n",
       "2011           0.0        0.0        0.0     17.0\n",
       "2021           0.0        0.0        0.0     19.0"
      ]
     },
     "execution_count": 20,
     "metadata": {},
     "output_type": "execute_result"
    }
   ],
   "source": [
    "df"
   ]
  },
  {
   "cell_type": "code",
   "execution_count": 20,
   "metadata": {},
   "outputs": [
    {
     "data": {
      "text/plain": [
       "Index(['1990', '2000', '2010', '2020', '1991', '2001', '2011', '2021', 2022,\n",
       "       2024],\n",
       "      dtype='object')"
      ]
     },
     "execution_count": 20,
     "metadata": {},
     "output_type": "execute_result"
    }
   ],
   "source": [
    "# append nuevos indices a el index\n",
    "df.index.append(pd.Index([2022,2024]))"
   ]
  },
  {
   "cell_type": "code",
   "execution_count": 18,
   "metadata": {},
   "outputs": [
    {
     "data": {
      "text/plain": [
       "Index(['1990', '2000', '2010', '2020', '1991', '2001', '2011', '2021', 2022,\n",
       "       2024],\n",
       "      dtype='object')"
      ]
     },
     "execution_count": 18,
     "metadata": {},
     "output_type": "execute_result"
    }
   ],
   "source": [
    "df"
   ]
  },
  {
   "cell_type": "code",
   "execution_count": 25,
   "metadata": {},
   "outputs": [],
   "source": [
    "# Creacion de datafram con metodo de nunmpy\n",
    "df_data = pd.DataFrame(np.arange(9).reshape((3,3)),\n",
    "                        index = [\"a\",\"c\",\"d\"],\n",
    "                        columns = [\"Ohio\",\"Texas\",\"California\"])"
   ]
  },
  {
   "cell_type": "code",
   "execution_count": 26,
   "metadata": {},
   "outputs": [
    {
     "data": {
      "text/html": [
       "<div>\n",
       "<style scoped>\n",
       "    .dataframe tbody tr th:only-of-type {\n",
       "        vertical-align: middle;\n",
       "    }\n",
       "\n",
       "    .dataframe tbody tr th {\n",
       "        vertical-align: top;\n",
       "    }\n",
       "\n",
       "    .dataframe thead th {\n",
       "        text-align: right;\n",
       "    }\n",
       "</style>\n",
       "<table border=\"1\" class=\"dataframe\">\n",
       "  <thead>\n",
       "    <tr style=\"text-align: right;\">\n",
       "      <th></th>\n",
       "      <th>Ohio</th>\n",
       "      <th>Texas</th>\n",
       "      <th>California</th>\n",
       "    </tr>\n",
       "  </thead>\n",
       "  <tbody>\n",
       "    <tr>\n",
       "      <th>a</th>\n",
       "      <td>0</td>\n",
       "      <td>1</td>\n",
       "      <td>2</td>\n",
       "    </tr>\n",
       "    <tr>\n",
       "      <th>c</th>\n",
       "      <td>3</td>\n",
       "      <td>4</td>\n",
       "      <td>5</td>\n",
       "    </tr>\n",
       "    <tr>\n",
       "      <th>d</th>\n",
       "      <td>6</td>\n",
       "      <td>7</td>\n",
       "      <td>8</td>\n",
       "    </tr>\n",
       "  </tbody>\n",
       "</table>\n",
       "</div>"
      ],
      "text/plain": [
       "   Ohio  Texas  California\n",
       "a     0      1           2\n",
       "c     3      4           5\n",
       "d     6      7           8"
      ]
     },
     "execution_count": 26,
     "metadata": {},
     "output_type": "execute_result"
    }
   ],
   "source": [
    "df_data"
   ]
  },
  {
   "cell_type": "code",
   "execution_count": 27,
   "metadata": {},
   "outputs": [
    {
     "data": {
      "text/html": [
       "<div>\n",
       "<style scoped>\n",
       "    .dataframe tbody tr th:only-of-type {\n",
       "        vertical-align: middle;\n",
       "    }\n",
       "\n",
       "    .dataframe tbody tr th {\n",
       "        vertical-align: top;\n",
       "    }\n",
       "\n",
       "    .dataframe thead th {\n",
       "        text-align: right;\n",
       "    }\n",
       "</style>\n",
       "<table border=\"1\" class=\"dataframe\">\n",
       "  <thead>\n",
       "    <tr style=\"text-align: right;\">\n",
       "      <th></th>\n",
       "      <th>Ohio</th>\n",
       "      <th>Texas</th>\n",
       "      <th>California</th>\n",
       "    </tr>\n",
       "  </thead>\n",
       "  <tbody>\n",
       "    <tr>\n",
       "      <th>a</th>\n",
       "      <td>0.0</td>\n",
       "      <td>1.0</td>\n",
       "      <td>2.0</td>\n",
       "    </tr>\n",
       "    <tr>\n",
       "      <th>b</th>\n",
       "      <td>NaN</td>\n",
       "      <td>NaN</td>\n",
       "      <td>NaN</td>\n",
       "    </tr>\n",
       "    <tr>\n",
       "      <th>c</th>\n",
       "      <td>3.0</td>\n",
       "      <td>4.0</td>\n",
       "      <td>5.0</td>\n",
       "    </tr>\n",
       "    <tr>\n",
       "      <th>d</th>\n",
       "      <td>6.0</td>\n",
       "      <td>7.0</td>\n",
       "      <td>8.0</td>\n",
       "    </tr>\n",
       "  </tbody>\n",
       "</table>\n",
       "</div>"
      ],
      "text/plain": [
       "   Ohio  Texas  California\n",
       "a   0.0    1.0         2.0\n",
       "b   NaN    NaN         NaN\n",
       "c   3.0    4.0         5.0\n",
       "d   6.0    7.0         8.0"
      ]
     },
     "execution_count": 27,
     "metadata": {},
     "output_type": "execute_result"
    }
   ],
   "source": [
    "# reindexacion de filas\n",
    "df_data.reindex(index=[\"a\",\"b\",\"c\",\"d\"])"
   ]
  },
  {
   "cell_type": "code",
   "execution_count": 28,
   "metadata": {},
   "outputs": [
    {
     "data": {
      "text/html": [
       "<div>\n",
       "<style scoped>\n",
       "    .dataframe tbody tr th:only-of-type {\n",
       "        vertical-align: middle;\n",
       "    }\n",
       "\n",
       "    .dataframe tbody tr th {\n",
       "        vertical-align: top;\n",
       "    }\n",
       "\n",
       "    .dataframe thead th {\n",
       "        text-align: right;\n",
       "    }\n",
       "</style>\n",
       "<table border=\"1\" class=\"dataframe\">\n",
       "  <thead>\n",
       "    <tr style=\"text-align: right;\">\n",
       "      <th></th>\n",
       "      <th>Texas</th>\n",
       "      <th>Utha</th>\n",
       "      <th>California</th>\n",
       "    </tr>\n",
       "  </thead>\n",
       "  <tbody>\n",
       "    <tr>\n",
       "      <th>a</th>\n",
       "      <td>1</td>\n",
       "      <td>NaN</td>\n",
       "      <td>2</td>\n",
       "    </tr>\n",
       "    <tr>\n",
       "      <th>c</th>\n",
       "      <td>4</td>\n",
       "      <td>NaN</td>\n",
       "      <td>5</td>\n",
       "    </tr>\n",
       "    <tr>\n",
       "      <th>d</th>\n",
       "      <td>7</td>\n",
       "      <td>NaN</td>\n",
       "      <td>8</td>\n",
       "    </tr>\n",
       "  </tbody>\n",
       "</table>\n",
       "</div>"
      ],
      "text/plain": [
       "   Texas  Utha  California\n",
       "a      1   NaN           2\n",
       "c      4   NaN           5\n",
       "d      7   NaN           8"
      ]
     },
     "execution_count": 28,
     "metadata": {},
     "output_type": "execute_result"
    }
   ],
   "source": [
    "# reindexacion de columnas\n",
    "states = [\"Texas\",\"Utha\",\"California\"]\n",
    "df_data.reindex(columns=states)\n",
    "# como 'Ohiio' no estaba en states, queda fuera del resultado"
   ]
  },
  {
   "cell_type": "code",
   "execution_count": 38,
   "metadata": {},
   "outputs": [
    {
     "data": {
      "text/html": [
       "<div>\n",
       "<style scoped>\n",
       "    .dataframe tbody tr th:only-of-type {\n",
       "        vertical-align: middle;\n",
       "    }\n",
       "\n",
       "    .dataframe tbody tr th {\n",
       "        vertical-align: top;\n",
       "    }\n",
       "\n",
       "    .dataframe thead th {\n",
       "        text-align: right;\n",
       "    }\n",
       "</style>\n",
       "<table border=\"1\" class=\"dataframe\">\n",
       "  <thead>\n",
       "    <tr style=\"text-align: right;\">\n",
       "      <th></th>\n",
       "      <th>FEB</th>\n",
       "      <th>MAR</th>\n",
       "      <th>ABR</th>\n",
       "    </tr>\n",
       "  </thead>\n",
       "  <tbody>\n",
       "    <tr>\n",
       "      <th>a</th>\n",
       "      <td>1.0</td>\n",
       "      <td>2.0</td>\n",
       "      <td>0.0</td>\n",
       "    </tr>\n",
       "    <tr>\n",
       "      <th>b</th>\n",
       "      <td>4.0</td>\n",
       "      <td>5.0</td>\n",
       "      <td>0.0</td>\n",
       "    </tr>\n",
       "    <tr>\n",
       "      <th>d</th>\n",
       "      <td>10.0</td>\n",
       "      <td>11.0</td>\n",
       "      <td>0.0</td>\n",
       "    </tr>\n",
       "    <tr>\n",
       "      <th>e</th>\n",
       "      <td>0.0</td>\n",
       "      <td>0.0</td>\n",
       "      <td>0.0</td>\n",
       "    </tr>\n",
       "    <tr>\n",
       "      <th>f</th>\n",
       "      <td>0.0</td>\n",
       "      <td>0.0</td>\n",
       "      <td>0.0</td>\n",
       "    </tr>\n",
       "  </tbody>\n",
       "</table>\n",
       "</div>"
      ],
      "text/plain": [
       "    FEB   MAR  ABR\n",
       "a   1.0   2.0  0.0\n",
       "b   4.0   5.0  0.0\n",
       "d  10.0  11.0  0.0\n",
       "e   0.0   0.0  0.0\n",
       "f   0.0   0.0  0.0"
      ]
     },
     "execution_count": 38,
     "metadata": {},
     "output_type": "execute_result"
    }
   ],
   "source": [
    "# otra forma de reindexar es pasar los nombres de las etiquetas como\n",
    "# un argumento posicional\n",
    "\n",
    "# crear nuevo dataframe\n",
    "df_meses = pd.DataFrame(np.arange(12).reshape((4,3)),\n",
    "                        index = [\"a\",\"b\",\"c\",\"d\"],\n",
    "                        columns= [\"ENE\",\"FEB\",\"MAR\"])\n",
    "new_months = [\"FEB\",\"MAR\",\"ABR\"]\n",
    "new_index = [\"a\",\"b\",\"d\",\"e\",\"f\"]\n",
    "# pasar el reindexado mediante argumento posicional\n",
    "df_meses = df_meses.reindex(new_months,axis=\"columns\")\n",
    "df_meses = df_meses.reindex(new_index,axis=\"index\")\n",
    "df_meses = df_meses.fillna(0)\n",
    "df_meses"
   ]
  }
 ],
 "metadata": {
  "kernelspec": {
   "display_name": "Python 3",
   "language": "python",
   "name": "python3"
  },
  "language_info": {
   "codemirror_mode": {
    "name": "ipython",
    "version": 3
   },
   "file_extension": ".py",
   "mimetype": "text/x-python",
   "name": "python",
   "nbconvert_exporter": "python",
   "pygments_lexer": "ipython3",
   "version": "3.11.4"
  }
 },
 "nbformat": 4,
 "nbformat_minor": 2
}
