{
 "cells": [
  {
   "cell_type": "code",
   "execution_count": 1,
   "metadata": {},
   "outputs": [],
   "source": [
    "import pandas as pd"
   ]
  },
  {
   "cell_type": "code",
   "execution_count": 10,
   "metadata": {},
   "outputs": [
    {
     "data": {
      "text/html": [
       "<div>\n",
       "<style scoped>\n",
       "    .dataframe tbody tr th:only-of-type {\n",
       "        vertical-align: middle;\n",
       "    }\n",
       "\n",
       "    .dataframe tbody tr th {\n",
       "        vertical-align: top;\n",
       "    }\n",
       "\n",
       "    .dataframe thead th {\n",
       "        text-align: right;\n",
       "    }\n",
       "</style>\n",
       "<table border=\"1\" class=\"dataframe\">\n",
       "  <thead>\n",
       "    <tr style=\"text-align: right;\">\n",
       "      <th></th>\n",
       "      <th>Monterrey</th>\n",
       "      <th>Chihuahua</th>\n",
       "      <th>Queretaro</th>\n",
       "      <th>Pachuca</th>\n",
       "    </tr>\n",
       "  </thead>\n",
       "  <tbody>\n",
       "    <tr>\n",
       "      <th>1990</th>\n",
       "      <td>10.0</td>\n",
       "      <td>12.0</td>\n",
       "      <td>13.0</td>\n",
       "      <td>0.0</td>\n",
       "    </tr>\n",
       "    <tr>\n",
       "      <th>2000</th>\n",
       "      <td>11.0</td>\n",
       "      <td>14.0</td>\n",
       "      <td>12.0</td>\n",
       "      <td>0.0</td>\n",
       "    </tr>\n",
       "    <tr>\n",
       "      <th>2010</th>\n",
       "      <td>12.0</td>\n",
       "      <td>15.0</td>\n",
       "      <td>18.0</td>\n",
       "      <td>0.0</td>\n",
       "    </tr>\n",
       "    <tr>\n",
       "      <th>2020</th>\n",
       "      <td>13.0</td>\n",
       "      <td>15.0</td>\n",
       "      <td>12.0</td>\n",
       "      <td>0.0</td>\n",
       "    </tr>\n",
       "    <tr>\n",
       "      <th>1991</th>\n",
       "      <td>0.0</td>\n",
       "      <td>0.0</td>\n",
       "      <td>0.0</td>\n",
       "      <td>15.0</td>\n",
       "    </tr>\n",
       "    <tr>\n",
       "      <th>2001</th>\n",
       "      <td>0.0</td>\n",
       "      <td>0.0</td>\n",
       "      <td>0.0</td>\n",
       "      <td>17.0</td>\n",
       "    </tr>\n",
       "    <tr>\n",
       "      <th>2011</th>\n",
       "      <td>0.0</td>\n",
       "      <td>0.0</td>\n",
       "      <td>0.0</td>\n",
       "      <td>17.0</td>\n",
       "    </tr>\n",
       "    <tr>\n",
       "      <th>2021</th>\n",
       "      <td>0.0</td>\n",
       "      <td>0.0</td>\n",
       "      <td>0.0</td>\n",
       "      <td>19.0</td>\n",
       "    </tr>\n",
       "  </tbody>\n",
       "</table>\n",
       "</div>"
      ],
      "text/plain": [
       "      Monterrey  Chihuahua  Queretaro  Pachuca\n",
       "1990       10.0       12.0       13.0      0.0\n",
       "2000       11.0       14.0       12.0      0.0\n",
       "2010       12.0       15.0       18.0      0.0\n",
       "2020       13.0       15.0       12.0      0.0\n",
       "1991        0.0        0.0        0.0     15.0\n",
       "2001        0.0        0.0        0.0     17.0\n",
       "2011        0.0        0.0        0.0     17.0\n",
       "2021        0.0        0.0        0.0     19.0"
      ]
     },
     "execution_count": 10,
     "metadata": {},
     "output_type": "execute_result"
    }
   ],
   "source": [
    "# crear dataframe de diccionario anidado de diccionarios\n",
    "\n",
    "data_1 = {\"Monterrey\":{\"1990\":10.0,\"2000\":11.0,\"2010\":12.0,\"2020\":13.0}}\n",
    "data_2 = {\"Chihuahua\":{\"1990\":12.0,\"2000\":14.0,\"2010\":15.0,\"2020\":15.0}}\n",
    "data_3 = {\"Queretaro\":{\"1990\":13.0,\"2000\":12.0,\"2010\":18.0,\"2020\":12.0}}\n",
    "data_4 = {\"Pachuca\":{\"1990\":15.0,\"2000\":17.0,\"2010\":17.0,\"2020\":19.0}}\n",
    "data_5 = {\"Pachuca\":{\"1991\":15.0,\"2001\":17.0,\"2011\":17.0,\"2021\":19.0}}\n",
    "\n",
    "# unir varios diccionarios en uno solo\n",
    "all_data = data_1 | data_2 | data_3 | data_4 | data_5\n",
    "# crear el dataframe\n",
    "df = pd.DataFrame(all_data)\n",
    "# replace Nan values for 0.0\n",
    "df = df.fillna(0.0)\n",
    "df\n"
   ]
  },
  {
   "cell_type": "code",
   "execution_count": 13,
   "metadata": {},
   "outputs": [
    {
     "name": "stdout",
     "output_type": "stream",
     "text": [
      "<class 'pandas.core.frame.DataFrame'>\n",
      "Index: 8 entries, 1990 to 2021\n",
      "Data columns (total 4 columns):\n",
      " #   Column     Non-Null Count  Dtype  \n",
      "---  ------     --------------  -----  \n",
      " 0   Monterrey  8 non-null      float64\n",
      " 1   Chihuahua  8 non-null      float64\n",
      " 2   Queretaro  8 non-null      float64\n",
      " 3   Pachuca    8 non-null      float64\n",
      "dtypes: float64(4)\n",
      "memory usage: 620.0+ bytes\n"
     ]
    }
   ],
   "source": [
    "df.info()"
   ]
  },
  {
   "cell_type": "code",
   "execution_count": 14,
   "metadata": {},
   "outputs": [],
   "source": [
    "# transponer filas y columnas\n",
    "df_t = df.T"
   ]
  },
  {
   "cell_type": "code",
   "execution_count": 15,
   "metadata": {},
   "outputs": [
    {
     "name": "stdout",
     "output_type": "stream",
     "text": [
      "<class 'pandas.core.frame.DataFrame'>\n",
      "Index: 4 entries, Monterrey to Pachuca\n",
      "Data columns (total 8 columns):\n",
      " #   Column  Non-Null Count  Dtype  \n",
      "---  ------  --------------  -----  \n",
      " 0   1990    4 non-null      float64\n",
      " 1   2000    4 non-null      float64\n",
      " 2   2010    4 non-null      float64\n",
      " 3   2020    4 non-null      float64\n",
      " 4   1991    4 non-null      float64\n",
      " 5   2001    4 non-null      float64\n",
      " 6   2011    4 non-null      float64\n",
      " 7   2021    4 non-null      float64\n",
      "dtypes: float64(8)\n",
      "memory usage: 460.0+ bytes\n"
     ]
    }
   ],
   "source": [
    "df_t.info()"
   ]
  },
  {
   "cell_type": "code",
   "execution_count": 19,
   "metadata": {},
   "outputs": [
    {
     "name": "stdout",
     "output_type": "stream",
     "text": [
      "Estados\n"
     ]
    }
   ],
   "source": [
    "# Establecer el atributo name a el index y a las columnas\n",
    "df.index.name = \"Estados\"\n",
    "df.columns.name = \"Years\"\n",
    "print(df.index.name)"
   ]
  },
  {
   "cell_type": "code",
   "execution_count": 20,
   "metadata": {},
   "outputs": [
    {
     "data": {
      "text/html": [
       "<div>\n",
       "<style scoped>\n",
       "    .dataframe tbody tr th:only-of-type {\n",
       "        vertical-align: middle;\n",
       "    }\n",
       "\n",
       "    .dataframe tbody tr th {\n",
       "        vertical-align: top;\n",
       "    }\n",
       "\n",
       "    .dataframe thead th {\n",
       "        text-align: right;\n",
       "    }\n",
       "</style>\n",
       "<table border=\"1\" class=\"dataframe\">\n",
       "  <thead>\n",
       "    <tr style=\"text-align: right;\">\n",
       "      <th>Years</th>\n",
       "      <th>Monterrey</th>\n",
       "      <th>Chihuahua</th>\n",
       "      <th>Queretaro</th>\n",
       "      <th>Pachuca</th>\n",
       "    </tr>\n",
       "    <tr>\n",
       "      <th>Estados</th>\n",
       "      <th></th>\n",
       "      <th></th>\n",
       "      <th></th>\n",
       "      <th></th>\n",
       "    </tr>\n",
       "  </thead>\n",
       "  <tbody>\n",
       "    <tr>\n",
       "      <th>1990</th>\n",
       "      <td>10.0</td>\n",
       "      <td>12.0</td>\n",
       "      <td>13.0</td>\n",
       "      <td>0.0</td>\n",
       "    </tr>\n",
       "    <tr>\n",
       "      <th>2000</th>\n",
       "      <td>11.0</td>\n",
       "      <td>14.0</td>\n",
       "      <td>12.0</td>\n",
       "      <td>0.0</td>\n",
       "    </tr>\n",
       "    <tr>\n",
       "      <th>2010</th>\n",
       "      <td>12.0</td>\n",
       "      <td>15.0</td>\n",
       "      <td>18.0</td>\n",
       "      <td>0.0</td>\n",
       "    </tr>\n",
       "    <tr>\n",
       "      <th>2020</th>\n",
       "      <td>13.0</td>\n",
       "      <td>15.0</td>\n",
       "      <td>12.0</td>\n",
       "      <td>0.0</td>\n",
       "    </tr>\n",
       "    <tr>\n",
       "      <th>1991</th>\n",
       "      <td>0.0</td>\n",
       "      <td>0.0</td>\n",
       "      <td>0.0</td>\n",
       "      <td>15.0</td>\n",
       "    </tr>\n",
       "    <tr>\n",
       "      <th>2001</th>\n",
       "      <td>0.0</td>\n",
       "      <td>0.0</td>\n",
       "      <td>0.0</td>\n",
       "      <td>17.0</td>\n",
       "    </tr>\n",
       "    <tr>\n",
       "      <th>2011</th>\n",
       "      <td>0.0</td>\n",
       "      <td>0.0</td>\n",
       "      <td>0.0</td>\n",
       "      <td>17.0</td>\n",
       "    </tr>\n",
       "    <tr>\n",
       "      <th>2021</th>\n",
       "      <td>0.0</td>\n",
       "      <td>0.0</td>\n",
       "      <td>0.0</td>\n",
       "      <td>19.0</td>\n",
       "    </tr>\n",
       "  </tbody>\n",
       "</table>\n",
       "</div>"
      ],
      "text/plain": [
       "Years    Monterrey  Chihuahua  Queretaro  Pachuca\n",
       "Estados                                          \n",
       "1990          10.0       12.0       13.0      0.0\n",
       "2000          11.0       14.0       12.0      0.0\n",
       "2010          12.0       15.0       18.0      0.0\n",
       "2020          13.0       15.0       12.0      0.0\n",
       "1991           0.0        0.0        0.0     15.0\n",
       "2001           0.0        0.0        0.0     17.0\n",
       "2011           0.0        0.0        0.0     17.0\n",
       "2021           0.0        0.0        0.0     19.0"
      ]
     },
     "execution_count": 20,
     "metadata": {},
     "output_type": "execute_result"
    }
   ],
   "source": [
    "df"
   ]
  }
 ],
 "metadata": {
  "kernelspec": {
   "display_name": "Python 3",
   "language": "python",
   "name": "python3"
  },
  "language_info": {
   "codemirror_mode": {
    "name": "ipython",
    "version": 3
   },
   "file_extension": ".py",
   "mimetype": "text/x-python",
   "name": "python",
   "nbconvert_exporter": "python",
   "pygments_lexer": "ipython3",
   "version": "3.11.4"
  }
 },
 "nbformat": 4,
 "nbformat_minor": 2
}
