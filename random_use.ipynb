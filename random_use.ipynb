{
 "cells": [
  {
   "cell_type": "code",
   "execution_count": 26,
   "metadata": {},
   "outputs": [],
   "source": [
    "import random as rd\n",
    "import numpy as np\n",
    "import pandas as pd\n",
    "from pathlib import Path\n"
   ]
  },
  {
   "cell_type": "code",
   "execution_count": 30,
   "metadata": {},
   "outputs": [
    {
     "name": "stdout",
     "output_type": "stream",
     "text": [
      "Path -> icca_dev\\data\\icca_file_2.csv exite Dude!\n",
      "dataframe creado\n",
      "<class 'pandas.core.frame.DataFrame'>\n",
      "RangeIndex: 19455 entries, 0 to 19454\n",
      "Data columns (total 5 columns):\n",
      " #   Column                      Non-Null Count  Dtype \n",
      "---  ------                      --------------  ----- \n",
      " 0   Unnamed: 0                  19455 non-null  int64 \n",
      " 1   model_number                19455 non-null  object\n",
      " 2   serial_number               19455 non-null  object\n",
      " 3   special_comments            19455 non-null  object\n",
      " 4   production_count_timestamp  19455 non-null  object\n",
      "dtypes: int64(1), object(4)\n",
      "memory usage: 760.1+ KB\n",
      "None\n"
     ]
    }
   ],
   "source": [
    "# builda dataframe\n",
    "file_name = \"./icca_dev/data/icca_file_2.csv\"\n",
    "file_path = Path(file_name)\n",
    "if file_path.exists():\n",
    "    print(f\"Path -> {file_path} exite Dude!\")\n",
    "    df = pd.read_csv(file_path)\n",
    "    print(\"dataframe creado\")\n",
    "    print(df.info())\n",
    "else:\n",
    "    print(\"File path no existe champs!\")"
   ]
  },
  {
   "cell_type": "code",
   "execution_count": 32,
   "metadata": {},
   "outputs": [
    {
     "name": "stdout",
     "output_type": "stream",
     "text": [
      "Numero total de registros en Dataframe -> 19455\n"
     ]
    }
   ],
   "source": [
    "max_index = df.index.size\n",
    "print(f\"Numero total de registros en Dataframe -> {max_index}\")"
   ]
  },
  {
   "cell_type": "code",
   "execution_count": 33,
   "metadata": {},
   "outputs": [],
   "source": [
    "# eliminar 300 registros aleatorios del dataframe\n",
    "random_indexes = np.random.choice(np.arange(0,max_index),replace=False,size=300)"
   ]
  },
  {
   "cell_type": "code",
   "execution_count": 34,
   "metadata": {},
   "outputs": [],
   "source": [
    "df = df.drop(index=random_indexes,axis=0)"
   ]
  },
  {
   "cell_type": "code",
   "execution_count": 36,
   "metadata": {},
   "outputs": [
    {
     "name": "stdout",
     "output_type": "stream",
     "text": [
      "Numero total de registros en Dataframe -> 19155\n",
      "<class 'pandas.core.frame.DataFrame'>\n",
      "Index: 19155 entries, 0 to 19454\n",
      "Data columns (total 5 columns):\n",
      " #   Column                      Non-Null Count  Dtype \n",
      "---  ------                      --------------  ----- \n",
      " 0   Unnamed: 0                  19155 non-null  int64 \n",
      " 1   model_number                19155 non-null  object\n",
      " 2   serial_number               19155 non-null  object\n",
      " 3   special_comments            19155 non-null  object\n",
      " 4   production_count_timestamp  19155 non-null  object\n",
      "dtypes: int64(1), object(4)\n",
      "memory usage: 897.9+ KB\n"
     ]
    }
   ],
   "source": [
    "# Inform the actual state of the dataframe after deletion of random indexes\n",
    "max_index = df.index.size\n",
    "print(f\"Numero total de registros en Dataframe -> {max_index}\")\n",
    "df.info()"
   ]
  },
  {
   "cell_type": "code",
   "execution_count": 37,
   "metadata": {},
   "outputs": [],
   "source": [
    "# Storage transformed dataframe with 300 registers deleted\n",
    "df.to_csv(\"./new_icca.csv\")"
   ]
  },
  {
   "cell_type": "code",
   "execution_count": 12,
   "metadata": {},
   "outputs": [
    {
     "name": "stdout",
     "output_type": "stream",
     "text": [
      "[88 37 59  4 10 26 68 68 84 89 91 14 69 45 65 34 96 13 37 34 55  3 49  2\n",
      " 32 30 26  5 47 66 30  4  0 12 59 40 81 35  3  0 28 99 25 62 71  3  3 24\n",
      " 79 67 22 98  2 75 14 87 80 98 24 56 50 19 56 18 63  5 53 74  9 76 51 49\n",
      " 53 79 33 73 13 74 37 58 90 71 14 30 34 83  4  1 43 49 86  0 56 79 50 34\n",
      " 83 74 15 30]\n"
     ]
    }
   ],
   "source": [
    "index_start = 0\n",
    "index_end = 100\n",
    "random_items = np.random.randint(0,index_end,100)\n",
    "print(random_items)"
   ]
  },
  {
   "cell_type": "code",
   "execution_count": 24,
   "metadata": {},
   "outputs": [
    {
     "name": "stdout",
     "output_type": "stream",
     "text": [
      "[68 92 77 23 47 56 63 32 15 58]\n"
     ]
    }
   ],
   "source": [
    "# Building of an array of random unique items of defined size on difined int size\n",
    "random_result = np.random.choice(np.arange(0,100),replace=False,size=10)\n",
    "print(random_result)"
   ]
  }
 ],
 "metadata": {
  "language_info": {
   "name": "python"
  }
 },
 "nbformat": 4,
 "nbformat_minor": 2
}
