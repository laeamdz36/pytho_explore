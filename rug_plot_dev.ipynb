{
 "cells": [
  {
   "cell_type": "code",
   "execution_count": null,
   "metadata": {},
   "outputs": [],
   "source": [
    "\"\"\"Develpment of a rug plot to checj the continuity of the serials data scanned by scanners and ICCA\"\"\"\n",
    "import seaborn as sns\n",
    "import random as rd"
   ]
  }
 ],
 "metadata": {
  "language_info": {
   "name": "python"
  }
 },
 "nbformat": 4,
 "nbformat_minor": 2
}
