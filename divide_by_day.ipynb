{
 "cells": [
  {
   "cell_type": "code",
   "execution_count": 1,
   "metadata": {},
   "outputs": [],
   "source": [
    "import random as rd\n",
    "import numpy as np\n",
    "import pandas as pd\n",
    "from pathlib import Path"
   ]
  },
  {
   "cell_type": "code",
   "execution_count": 2,
   "metadata": {},
   "outputs": [
    {
     "name": "stdout",
     "output_type": "stream",
     "text": [
      "Path -> icca_dev\\data\\icca_file_2.csv exite Dude!\n",
      "dataframe creado\n",
      "<class 'pandas.core.frame.DataFrame'>\n",
      "RangeIndex: 19455 entries, 0 to 19454\n",
      "Data columns (total 5 columns):\n",
      " #   Column                      Non-Null Count  Dtype \n",
      "---  ------                      --------------  ----- \n",
      " 0   Unnamed: 0                  19455 non-null  int64 \n",
      " 1   model_number                19455 non-null  object\n",
      " 2   serial_number               19455 non-null  object\n",
      " 3   special_comments            19455 non-null  object\n",
      " 4   production_count_timestamp  19455 non-null  object\n",
      "dtypes: int64(1), object(4)\n",
      "memory usage: 760.1+ KB\n",
      "None\n"
     ]
    }
   ],
   "source": [
    "# builda dataframe\n",
    "file_name = \"./icca_dev/data/icca_file_2.csv\"\n",
    "file_path = Path(file_name)\n",
    "if file_path.exists():\n",
    "    print(f\"Path -> {file_path} exite Dude!\")\n",
    "    df = pd.read_csv(file_path)\n",
    "    print(\"dataframe creado\")\n",
    "    print(df.info())\n",
    "else:\n",
    "    print(\"File path no existe champs!\")"
   ]
  },
  {
   "cell_type": "code",
   "execution_count": 3,
   "metadata": {},
   "outputs": [],
   "source": [
    "# Devide dataframes by date\n",
    "# transform dataframe on index datetime, column production_count_timestamp\n",
    "df[\"production_count_timestamp\"] = pd.to_datetime(df[\"production_count_timestamp\"])\n",
    "df = df.set_index([\"production_count_timestamp\"])\n",
    "df = df.iloc[:,1:]"
   ]
  },
  {
   "cell_type": "code",
   "execution_count": 4,
   "metadata": {},
   "outputs": [
    {
     "name": "stdout",
     "output_type": "stream",
     "text": [
      "<class 'pandas.core.frame.DataFrame'>\n",
      "DatetimeIndex: 19455 entries, 2024-05-28 06:11:16 to 2024-05-31 12:59:39\n",
      "Data columns (total 3 columns):\n",
      " #   Column            Non-Null Count  Dtype \n",
      "---  ------            --------------  ----- \n",
      " 0   model_number      19455 non-null  object\n",
      " 1   serial_number     19455 non-null  object\n",
      " 2   special_comments  19455 non-null  object\n",
      "dtypes: object(3)\n",
      "memory usage: 608.0+ KB\n"
     ]
    }
   ],
   "source": [
    "df.info()"
   ]
  },
  {
   "cell_type": "code",
   "execution_count": 15,
   "metadata": {},
   "outputs": [
    {
     "name": "stdout",
     "output_type": "stream",
     "text": [
      "dia -> 2024-05-28\n",
      "dia -> 2024-05-29\n",
      "dia -> 2024-05-30\n",
      "dia -> 2024-05-31\n",
      "<class 'pandas.core.frame.DataFrame'>\n",
      "DatetimeIndex: 4801 entries, 2024-05-28 06:11:16 to 2024-05-28 23:26:51\n",
      "Data columns (total 3 columns):\n",
      " #   Column            Non-Null Count  Dtype \n",
      "---  ------            --------------  ----- \n",
      " 0   model_number      4801 non-null   object\n",
      " 1   serial_number     4801 non-null   object\n",
      " 2   special_comments  4801 non-null   object\n",
      "dtypes: object(3)\n",
      "memory usage: 150.0+ KB\n",
      "None\n",
      "<class 'pandas.core.frame.DataFrame'>\n",
      "DatetimeIndex: 5542 entries, 2024-05-29 00:44:35 to 2024-05-29 23:59:54\n",
      "Data columns (total 3 columns):\n",
      " #   Column            Non-Null Count  Dtype \n",
      "---  ------            --------------  ----- \n",
      " 0   model_number      5542 non-null   object\n",
      " 1   serial_number     5542 non-null   object\n",
      " 2   special_comments  5542 non-null   object\n",
      "dtypes: object(3)\n",
      "memory usage: 173.2+ KB\n",
      "None\n",
      "<class 'pandas.core.frame.DataFrame'>\n",
      "DatetimeIndex: 5680 entries, 2024-05-30 00:00:23 to 2024-05-30 23:58:52\n",
      "Data columns (total 3 columns):\n",
      " #   Column            Non-Null Count  Dtype \n",
      "---  ------            --------------  ----- \n",
      " 0   model_number      5680 non-null   object\n",
      " 1   serial_number     5680 non-null   object\n",
      " 2   special_comments  5680 non-null   object\n",
      "dtypes: object(3)\n",
      "memory usage: 177.5+ KB\n",
      "None\n",
      "<class 'pandas.core.frame.DataFrame'>\n",
      "DatetimeIndex: 3432 entries, 2024-05-31 00:01:42 to 2024-05-31 12:59:39\n",
      "Data columns (total 3 columns):\n",
      " #   Column            Non-Null Count  Dtype \n",
      "---  ------            --------------  ----- \n",
      " 0   model_number      3432 non-null   object\n",
      " 1   serial_number     3432 non-null   object\n",
      " 2   special_comments  3432 non-null   object\n",
      "dtypes: object(3)\n",
      "memory usage: 107.2+ KB\n",
      "None\n"
     ]
    }
   ],
   "source": [
    "df_resample_by_day = df.resample(\"D\").count()\n",
    "day_list = df_resample_by_day.index\n",
    "\n",
    "days = []\n",
    "for day in day_list:\n",
    "    day_aux = day.date()\n",
    "    days.append(day_aux)\n",
    "    print(f\"dia -> {day_aux}\")\n",
    "\n",
    "# build a list of dataframes of each day and storage as csv\n",
    "dataframe_list_by_day = []\n",
    "for day in days:\n",
    "    df_aux = df[df.index.date == day]\n",
    "    dataframe_list_by_day.append(df_aux)\n",
    "    file_name = \"./\" + str(day) + \"_icca.csv\"\n",
    "    df_aux.to_csv(file_name)\n",
    "for dataframe in dataframe_list_by_day:\n",
    "    print(dataframe.info())"
   ]
  }
 ],
 "metadata": {
  "language_info": {
   "name": "python"
  }
 },
 "nbformat": 4,
 "nbformat_minor": 2
}
